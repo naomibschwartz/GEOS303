{
 "cells": [
  {
   "cell_type": "markdown",
   "id": "b17f1f2f-392d-4bba-801f-2f6ac12331f6",
   "metadata": {},
   "source": [
    "# GEOS303 - Tropical Ecosystems in a Changing World\n",
    "\n",
    "If the note book *TroEcoChangingWorld* was correctly loaded you are now reading this text in the JupyterLab environment.\n",
    "\n",
    "So, let's start installing and loading the libraries we'll need in this notebook.\n",
    "\n",
    "Be patient! It should take between 4 and 6 minutes to install and load all the libraries.  \n",
    "If you see an asterisk between square brackets [*], the process is still running.  \n",
    "If you see a number between square brackets [1], the process is done and you can jump to the next cell.  \n",
    "Click on any place in the next cell and press **shift + enter**\n",
    "If you get a Kernel error, try one more time."
   ]
  },
  {
   "cell_type": "code",
   "execution_count": null,
   "id": "a2c9fab3-7140-4535-932c-b44d4c19449f",
   "metadata": {
    "tags": []
   },
   "outputs": [],
   "source": [
    "if(!\"terra\" %in% installed.packages()){system('mamba install -c conda-forge r-terra')}\n",
    "if(!\"geodata\" %in% installed.packages()){install.packages(\"geodata\", repos = \"http://cran.us.r-project.org\")}\n",
    "if(!\"climatol\" %in% installed.packages()){install.packages(\"climatol\", repos = \"http://cran.us.r-project.org\")}\n",
    "if(!\"leaflet\" %in% installed.packages()){install.packages(\"leaflet\", repos = \"http://cran.us.r-project.org\")}\n",
    "if(!\"here\" %in% installed.packages()){install.packages(\"here\", repos = \"http://cran.us.r-project.org\")}\n",
    "if(!\"htmlwidgets\" %in% installed.packages()){install.packages(\"htmlwidgets\", repos = \"http://cran.us.r-project.org\")}\n",
    "if(!\"htmltools\" %in% installed.packages()){install.packages(\"htmltools\", repos = \"http://cran.us.r-project.org\")}\n",
    "library(htmlwidgets)\n",
    "library(htmltools)\n",
    "library(terra)\n",
    "library(geodata)\n",
    "library(climatol)\n",
    "library(leaflet)\n",
    "library(here)\n",
    "a <- -2.06831264963192\n",
    "b <- -1.51723676866624\n",
    "c <- -2.01620404637755\n",
    "d <- -0.141267212985362\n",
    "#Download country boundaries\n",
    "countries <- world(path = tempdir())\n",
    "# function to create Walter-Lieth diagrams\n",
    "wld <- function(latitude, longitude){\n",
    "    spot <- matrix(c(longitude, latitude), ncol=2)\n",
    "    colnames(spot) <- c(\"lon\", \"lat\")\n",
    "    site <- terra::extract(countries, spot)$NAME_0\n",
    "    rownames(spot) <- site\n",
    "    # Download Worldclim data\n",
    "    pre  <- worldclim_tile(var = \"prec\", res = 10, path = tempdir(), lon = longitude, lat = latitude)\n",
    "    tmin <- worldclim_tile(var = \"tmin\", res = 10, path = tempdir(), lon = longitude, lat = latitude)\n",
    "    tmax <- worldclim_tile(var = \"tmax\", res = 10, path = tempdir(), lon = longitude, lat = latitude)\n",
    "    elev <- elevation_3s(longitude, latitude, path = tempdir())\n",
    "    # Extract climate data from Worldclim\n",
    "    pre.spot <- as.data.frame(terra::extract(pre, spot)) # Precipitation\n",
    "    tmin.spot <- as.data.frame(terra::extract(tmin, spot)) # Min monthly temperature\n",
    "    tmax.spot <- as.data.frame(terra::extract(tmax, spot)) # Max monthly temperature\n",
    "    elev.spot <- as.data.frame(terra::extract(elev, spot))\n",
    "    # Change column names\n",
    "    names(pre.spot) <- month.abb\n",
    "    names(tmin.spot) <- month.abb\n",
    "    names(tmax.spot) <- month.abb\n",
    "    # Create matrix of climate data needed for Walter and Lieth diagram\n",
    "    spot.matrix <- as.matrix(rbind(pre.spot, tmax.spot, tmin.spot))\n",
    "    rownames(spot.matrix) <- c(\"Precip\", \"MaxT\", \"MinT\")\n",
    "    # Plot Walter and Lieth climate diagrams\n",
    "    diagwl(spot.matrix, cols = NULL, format = '%d', stname= paste('Elev:'), alt=elev.spot[1,], per='1970-2000', mlab = month.abb)\n",
    "    }"
   ]
  },
  {
   "cell_type": "markdown",
   "id": "6180a0ca-2b73-4451-992e-8ff2fadff4c5",
   "metadata": {},
   "source": [
    "# Part 1: Interpreting Walter-Lieth diagrams\n",
    "Run the cell below to plot a Walter-Lieth diagram for a secret location. To run the code execute the next cell pressing **shift + enter**"
   ]
  },
  {
   "cell_type": "code",
   "execution_count": null,
   "id": "306c34b5-8bd0-4d7b-a2ed-861a3624c24e",
   "metadata": {
    "tags": []
   },
   "outputs": [],
   "source": [
    "wld(0.1^b, 0.1^a*-1)"
   ]
  },
  {
   "cell_type": "markdown",
   "id": "3d616275-b87e-4982-ba72-26fc02753405",
   "metadata": {},
   "source": [
    "Question 1a: Describe the climate of this region. What is the predominant form of seasonality? What place do you think these data represent (give your best guess).\n",
    "\n",
    "**Double click to insert your answer here**\n"
   ]
  },
  {
   "cell_type": "markdown",
   "id": "02b39a90-7e01-4f02-8472-9e92bce4faef",
   "metadata": {
    "tags": []
   },
   "source": [
    "Question 1b: Is this region tropical? According to which definitions? Explain your answer, referring to the Walter-Lieth diagram.\n",
    "\n",
    "**Double click to insert your answer here**\n"
   ]
  },
  {
   "cell_type": "markdown",
   "id": "f804e715-22d3-47a7-85c3-92a5b14c0c74",
   "metadata": {},
   "source": [
    "Now run the cell below to check where it is and in which Ecoregion"
   ]
  },
  {
   "cell_type": "code",
   "execution_count": null,
   "id": "bd82753a-825d-42b6-99d2-6911729a632e",
   "metadata": {
    "tags": []
   },
   "outputs": [],
   "source": [
    "countries <- world(path = tempdir())\n",
    "if (!file.exists(here::here(\"6kcchn7e3u_official_teow.zip\"))) {\n",
    "    download.file('https://files.worldwildlife.org/wwfcmsprod/files/Publication/file/6kcchn7e3u_official_teow.zip', \"6kcchn7e3u_official_teow.zip\")\n",
    "    unzip(\"6kcchn7e3u_official_teow.zip\")\n",
    "}\n",
    "ecoregions <- vect(here::here(\"official\",\"wwf_terr_ecos.shp\"), crs = \"+proj=longlat +datum=WGS84\")\n",
    "biome <- data.frame(BIOME = c(1:14),\n",
    "                    BIOME_NAME = c(\"Tropical & Subtropical Moist Broadleaf Forests\", \"Tropical & Subtropical Dry Broadleaf Forests\",\n",
    "                                   \"Tropical & Subtropical Coniferous Forests\", \"Temperate Broadleaf & Mixed Forests\", \n",
    "                                   \"Temperate Conifer Forests\", \"Boreal Forests/Taiga\", \"Tropical & Subtropical Grasslands, Savannas & Shrublands\", \n",
    "                                   \"Temperate Grasslands, Savannas & Shrublands\", \"Flooded Grasslands & Savannas\", \"Montane Grasslands & Shrublands\", \n",
    "                                   \"Tundra\", \"Mediterranean Forests, Woodlands & Scrub\", \"Deserts & Xeric Shrublands \", \"Mangroves\")\n",
    "                    )\n",
    "ecoregions <- merge(ecoregions, biome, all.x=TRUE, by.x='BIOME', by.y='BIOME')\n",
    "y <- 0.1^b\n",
    "x <- 0.1^a*-1\n",
    "country <- countries[vect(cbind(x, y), crs=\"+proj=longlat +datum=WGS84\")]\n",
    "ecoregion <- ecoregions[vect(cbind(x, y), crs=\"+proj=longlat +datum=WGS84\")]\n",
    "tag.map.title <- tags$style(HTML(\".leaflet-control.map-title { transform: translate(-50%,20%);position: fixed !important;\n",
    "                                left: 30%; text-align: left; padding-left: 10px; padding-right: 10px; background: rgba(255,255,255,0.75);\n",
    "                                font-weight: bold; font-size: 14px;\n",
    "                                }\"\n",
    "                                )\n",
    "                            )\n",
    "title <- tags$div(\n",
    "  tag.map.title, HTML(\"Country: \", country$NAME_0,'<br>', \"Ecoregion: \", ecoregion$ECO_NAME,'<br>', \"Biome: \",ecoregion$BIOME_NAME)\n",
    "                     )  \n",
    "map <- leaflet(ecoregion) %>%\n",
    "  addPolygons() %>%\n",
    "  addTiles() %>%\n",
    "  addMarkers(~x, ~y, popup = ~as.character(ecoregion$ECO_NAME), label = ~as.character(ecoregion$ECO_NAME)) %>%\n",
    "  setView(lng = as.numeric((ext(ecoregion)[1]+ext(ecoregion)[2])/2), lat = as.numeric((ext(ecoregion)[3]+ext(ecoregion)[4])/2), zoom = 6) %>% # Set initial map center and zoom level\n",
    "  addControl(title, position = \"topleft\", className=\"map-title\")\n",
    "map"
   ]
  },
  {
   "cell_type": "markdown",
   "id": "c2a3d660-cc2f-421f-a1c5-354bbfdd8dcc",
   "metadata": {
    "tags": []
   },
   "source": [
    "Now, run the cell below to plot another Walter-Lieth diagram for another location."
   ]
  },
  {
   "cell_type": "code",
   "execution_count": null,
   "id": "bcaf3be4-6513-402f-85f0-c7a3d4245794",
   "metadata": {
    "tags": []
   },
   "outputs": [],
   "source": [
    "wld(0.1^d, 0.1^c)"
   ]
  },
  {
   "cell_type": "markdown",
   "id": "2d4038dc-1150-49ad-b610-379880ca74d7",
   "metadata": {},
   "source": [
    "Question 2a: Describe the climate of this region. What is the predominant form of seasonality? What place do you think these data represent (give your best guess).\n",
    "\n",
    "\n",
    "**Double click to insert your answer here**\n",
    "\n",
    "Question 2b: Is this region tropical? According to which definitions? Explain your answer, referring to the Walter-Lieth diagram.\n",
    "\n",
    "\n",
    "**Double click to insert your answer here**\n",
    "\n",
    "Let's check where it is running the code below"
   ]
  },
  {
   "cell_type": "code",
   "execution_count": null,
   "id": "7bd04af5-e7c2-4c7c-a94b-299e5705ffce",
   "metadata": {
    "tags": []
   },
   "outputs": [],
   "source": [
    "y <- 0.1^d\n",
    "x <- 0.1^c\n",
    "country <- countries[vect(cbind(x, y), crs=\"+proj=longlat +datum=WGS84\")]\n",
    "ecoregion <- ecoregions[vect(cbind(x, y), crs=\"+proj=longlat +datum=WGS84\")]\n",
    "tag.map.title <- tags$style(HTML(\".leaflet-control.map-title { transform: translate(-50%,20%);position: fixed !important;\n",
    "                                left: 30%; text-align: left; padding-left: 10px; padding-right: 10px; background: rgba(255,255,255,0.75);\n",
    "                                font-weight: bold; font-size: 14px;\n",
    "                                }\"\n",
    "                                )\n",
    "                            )\n",
    "title <- tags$div(\n",
    "  tag.map.title, HTML(\"Country: \", country$NAME_0,'<br>', \"Ecoregion: \", ecoregion$ECO_NAME,'<br>', \"Biome: \",ecoregion$BIOME_NAME)\n",
    "                     )  \n",
    "map <- leaflet(ecoregion) %>%\n",
    "  addPolygons() %>%\n",
    "  addTiles() %>%\n",
    "  addMarkers(~x, ~y, popup = ~as.character(ecoregion$ECO_NAME), label = ~as.character(ecoregion$ECO_NAME)) %>%\n",
    "  setView(lng = as.numeric((ext(ecoregion)[1]+ext(ecoregion)[2])/2), lat = as.numeric((ext(ecoregion)[3]+ext(ecoregion)[4])/2), zoom = 6) %>% # Set initial map center and zoom level\n",
    "  addControl(title, position = \"topleft\", className=\"map-title\")\n",
    "map"
   ]
  },
  {
   "cell_type": "markdown",
   "id": "a2026cf6-29b4-496a-ab32-7a172ff863f2",
   "metadata": {},
   "source": [
    "# Part 2: Tropical climates and vegetation\n",
    "Run the code below to plot a Walter-Lieth diagram for 147.52°E, 8.63°S."
   ]
  },
  {
   "cell_type": "code",
   "execution_count": null,
   "id": "9638d292-74ed-47b5-a208-53b7fe75d7a0",
   "metadata": {
    "tags": []
   },
   "outputs": [],
   "source": [
    "wld(-8.63, 147.52)"
   ]
  },
  {
   "cell_type": "markdown",
   "id": "ae915ca3-a921-4409-b2dc-8e3e183c37e8",
   "metadata": {},
   "source": [
    "Question 3: Based on the diagram (and without Googling the place), if you went to this place, what kind of vegetation would you expect to find? What other information about the environment would help improve your prediction. Explain your answer.\n",
    "\n",
    "**Double click to insert your answer here**\n",
    "\n",
    "Take a look  where it is running the code below"
   ]
  },
  {
   "cell_type": "code",
   "execution_count": null,
   "id": "4a9801f5-3573-4dcf-b726-42350d769702",
   "metadata": {
    "tags": []
   },
   "outputs": [],
   "source": [
    "y <- -8.63\n",
    "x <- 147.52\n",
    "country <- countries[vect(cbind(x, y), crs=\"+proj=longlat +datum=WGS84\")]\n",
    "ecoregion <- ecoregions[vect(cbind(x, y), crs=\"+proj=longlat +datum=WGS84\")]\n",
    "tag.map.title <- tags$style(HTML(\".leaflet-control.map-title { transform: translate(-50%,20%);position: fixed !important;\n",
    "                                left: 30%; text-align: left; padding-left: 10px; padding-right: 10px; background: rgba(255,255,255,0.75);\n",
    "                                font-weight: bold; font-size: 14px;\n",
    "                                }\"\n",
    "                                )\n",
    "                            )\n",
    "title <- tags$div(\n",
    "  tag.map.title, HTML(\"Country: \", country$NAME_0,'<br>', \"Ecoregion: \", ecoregion$ECO_NAME,'<br>', \"Biome: \",ecoregion$BIOME_NAME)\n",
    "                     )  \n",
    "map <- leaflet(ecoregion) %>%\n",
    "  addPolygons() %>%\n",
    "  addTiles() %>%\n",
    "  addMarkers(~x, ~y, popup = ~as.character(ecoregion$ECO_NAME), label = ~as.character(ecoregion$ECO_NAME)) %>%\n",
    "  setView(lng = as.numeric((ext(ecoregion)[1]+ext(ecoregion)[2])/2), lat = as.numeric((ext(ecoregion)[3]+ext(ecoregion)[4])/2), zoom = 6) %>% # Set initial map center and zoom level\n",
    "  addControl(title, position = \"topleft\", className=\"map-title\")\n",
    "map"
   ]
  },
  {
   "cell_type": "markdown",
   "id": "43de4dfa-d4b5-4e1a-8c57-aacfb1ae1659",
   "metadata": {},
   "source": [
    "Run the cell below to plot a Walter-Lieth diagram for 29.15°E , 17.48°S."
   ]
  },
  {
   "cell_type": "code",
   "execution_count": null,
   "id": "ad893ef3-4043-482d-958b-8a52a521ca12",
   "metadata": {
    "tags": []
   },
   "outputs": [],
   "source": [
    "wld(-17.48, 29.15)"
   ]
  },
  {
   "cell_type": "markdown",
   "id": "43aaeaf5-7f81-426b-80a5-6ddcdf9693ee",
   "metadata": {},
   "source": [
    "Question 4: Based on the diagram (and without Googling the place), if you went to this place, what kind of vegetation would you expect to find? What other information about the environment would help improve your prediction. Explain your answer.\n",
    "\n",
    "**Double click to insert your answer here**\n",
    "\n",
    "After answering, take a look running the code below"
   ]
  },
  {
   "cell_type": "code",
   "execution_count": null,
   "id": "8d7eb6a8-b595-4f46-ab3c-8b702070cf63",
   "metadata": {
    "tags": []
   },
   "outputs": [],
   "source": [
    "y <- -17.48\n",
    "x <-  29.15\n",
    "country <- countries[vect(cbind(x, y), crs=\"+proj=longlat +datum=WGS84\")]\n",
    "ecoregion <- ecoregions[vect(cbind(x, y), crs=\"+proj=longlat +datum=WGS84\")]\n",
    "tag.map.title <- tags$style(HTML(\".leaflet-control.map-title { transform: translate(-50%,20%);position: fixed !important;\n",
    "                                left: 30%; text-align: left; padding-left: 10px; padding-right: 10px; background: rgba(255,255,255,0.75);\n",
    "                                font-weight: bold; font-size: 14px;\n",
    "                                }\"\n",
    "                                )\n",
    "                            )\n",
    "title <- tags$div(\n",
    "  tag.map.title, HTML(\"Country: \", country$NAME_0,'<br>', \"Ecoregion: \", ecoregion$ECO_NAME,'<br>', \"Biome: \",ecoregion$BIOME_NAME)\n",
    "                     )  \n",
    "map <- leaflet(ecoregion) %>%\n",
    "  addPolygons() %>%\n",
    "  addTiles() %>%\n",
    "  addMarkers(~x, ~y, popup = ~as.character(ecoregion$ECO_NAME), label = ~as.character(ecoregion$ECO_NAME)) %>%\n",
    "  setView(lng = as.numeric((ext(ecoregion)[1]+ext(ecoregion)[2])/2), lat = as.numeric((ext(ecoregion)[3]+ext(ecoregion)[4])/2+5), zoom = 6) %>% # Set initial map center and zoom level\n",
    "  addControl(title, position = \"topleft\", className=\"map-title\")\n",
    "map"
   ]
  },
  {
   "cell_type": "markdown",
   "id": "ad7a971b-c691-4d91-b528-66d77315a1ed",
   "metadata": {},
   "source": [
    "# Part 3: Climate and vegetation in the location of your wiki project.\n",
    "Now, you can use the code we created to generate a Walter-Lieth diagram or two to use in your wiki project. You should include this diagram in the section on climate and biomes.\n",
    "\n",
    "To create your diagram, go to [Google Maps](http://maps.google.com), right-click on your chosen place to copy coordinates (Latitude, Longitude) and paste it into the brackets in the cell below and than run the cell."
   ]
  },
  {
   "cell_type": "code",
   "execution_count": null,
   "id": "c3b6d266-1903-4ce1-8aab-cfcc3f7eb3e4",
   "metadata": {
    "tags": []
   },
   "outputs": [],
   "source": [
    "latlon <- c() # paste your coordenates into the brackets and shift + enter\n",
    "wld(latlon[1], latlon[2])  "
   ]
  },
  {
   "cell_type": "markdown",
   "id": "955b02d7-c7af-49cc-b26f-3eab9fd5b907",
   "metadata": {},
   "source": [
    "To export your diagram for use in your wiki, you may take a screenshot or right-click to save as a .svg file.\n",
    "To insert the image onto your wiki page, please follow this [instructions](https://wiki.ubc.ca/Help:Tutorial#Images). Make sure to include a caption, with a description of the figure and a reference for the data source!\n",
    "\n",
    "You can also generate a map with the Ecoregion boundary to your chosen place running the code below."
   ]
  },
  {
   "cell_type": "code",
   "execution_count": null,
   "id": "55e10c39-5477-4f6d-97d3-11cc3f25f56d",
   "metadata": {
    "tags": []
   },
   "outputs": [],
   "source": [
    "y <- latlon[1]\n",
    "x <- latlon[2]\n",
    "country <- countries[vect(cbind(x, y), crs=\"+proj=longlat +datum=WGS84\")]\n",
    "ecoregion <- ecoregions[vect(cbind(x, y), crs=\"+proj=longlat +datum=WGS84\")]\n",
    "tag.map.title <- tags$style(HTML(\".leaflet-control.map-title { transform: translate(-50%,20%);position: fixed !important;\n",
    "                                left: 30%; text-align: left; padding-left: 10px; padding-right: 10px; background: rgba(255,255,255,0.75);\n",
    "                                font-weight: bold; font-size: 14px;\n",
    "                                }\"\n",
    "                                )\n",
    "                            )\n",
    "title <- tags$div(\n",
    "  tag.map.title, HTML(\"Country: \", country$NAME_0,'<br>', \"Ecoregion: \", ecoregion$ECO_NAME,'<br>', \"Biome: \",ecoregion$BIOME_NAME)\n",
    "                     )  \n",
    "map <- leaflet(ecoregion) %>%\n",
    "  addPolygons() %>%\n",
    "  addTiles() %>%\n",
    "  addMarkers(~x, ~y, popup = ~as.character(ecoregion$ECO_NAME), label = ~as.character(ecoregion$ECO_NAME)) %>%\n",
    "  setView(lng = as.numeric((ext(ecoregion)[1]+ext(ecoregion)[2])/2), lat = as.numeric((ext(ecoregion)[3]+ext(ecoregion)[4])/2), zoom = 6) %>% # Set initial map center and zoom level\n",
    "  addControl(title, position = \"topleft\", className=\"map-title\")\n",
    "map"
   ]
  }
 ],
 "metadata": {
  "kernelspec": {
   "display_name": "R",
   "language": "R",
   "name": "ir"
  },
  "language_info": {
   "codemirror_mode": "r",
   "file_extension": ".r",
   "mimetype": "text/x-r-source",
   "name": "R",
   "pygments_lexer": "r",
   "version": "4.1.3"
  },
  "toc-autonumbering": false,
  "toc-showcode": true
 },
 "nbformat": 4,
 "nbformat_minor": 5
}
