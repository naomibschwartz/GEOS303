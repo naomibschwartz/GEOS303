{
 "cells": [
  {
   "cell_type": "markdown",
   "id": "98f66ac1-4c1a-45b4-89b6-9f901bb791e3",
   "metadata": {},
   "source": [
    "# GEOS303 - Tropical Ecosystems in a Changing World\n",
    "\n",
    "If the note book *TroEcoChangingWorld* was correctly loaded you are now reading this text in the JupyterLab environment.\n",
    "\n",
    "So, let's start installing and loading the libraries we'll need in this notebook. This notebook was written in the R language and the blocks you see below are code that will allow to download and plot climate and ecological data. This R code may look familiar to some of you. If it doesn't don't worry!\n",
    "\n",
    "Click on any place in the next cell and press **shift + enter** to run the code. \n",
    "You should see an asterisk between square brackets [*] at the top left of the cell. This indicates the process is running.  \n",
    "If you see a number between square brackets [1], the process is done and you can jump to the next cell.  \n",
    "If you get a Kernel error, try one more time. If prompted to choose a Kernel environment, choose R. \n",
    "Be patient! It should take between 4 and 6 minutes to install and load all the libraries.  "
   ]
  },
  {
   "cell_type": "code",
   "execution_count": 2,
   "id": "c34aa4a5-fefa-42c3-8c4f-95f96b41ce0b",
   "metadata": {
    "tags": []
   },
   "outputs": [],
   "source": [
    "if(!\"terra\" %in% installed.packages()){system('mamba install -c conda-forge r-terra')}\n",
    "if(!\"geodata\" %in% installed.packages()){install.packages(\"geodata\", repos = \"http://cran.us.r-project.org\")}\n",
    "if(!\"climatol\" %in% installed.packages()){install.packages(\"climatol\", repos = \"http://cran.us.r-project.org\")}\n",
    "if(!\"leaflet\" %in% installed.packages()){install.packages(\"leaflet\", repos = \"http://cran.us.r-project.org\")}\n",
    "if(!\"here\" %in% installed.packages()){install.packages(\"here\", repos = \"http://cran.us.r-project.org\")}\n",
    "if(!\"htmlwidgets\" %in% installed.packages()){install.packages(\"htmlwidgets\", repos = \"http://cran.us.r-project.org\")}\n",
    "if(!\"htmltools\" %in% installed.packages()){install.packages(\"htmltools\", repos = \"http://cran.us.r-project.org\")}\n",
    "library(htmlwidgets)\n",
    "library(htmltools)\n",
    "library(terra)\n",
    "library(geodata)\n",
    "library(climatol)\n",
    "library(leaflet)\n",
    "library(here)\n",
    "a <- -2.06831264963192\n",
    "b <- -1.51723676866624\n",
    "c <- -2.01620404637755\n",
    "d <- -0.141267212985362\n",
    "#Download country boundaries\n",
    "countries <- world(path = tempdir())\n",
    "# function to create Walter-Lieth diagrams\n",
    "wld <- function(latitude, longitude){\n",
    "    spot <- matrix(c(longitude, latitude), ncol=2)\n",
    "    colnames(spot) <- c(\"lon\", \"lat\")\n",
    "    site <- terra::extract(countries, spot)$NAME_0\n",
    "    rownames(spot) <- site\n",
    "    # Download Worldclim data\n",
    "    pre  <- worldclim_tile(var = \"prec\", res = 10, path = tempdir(), lon = longitude, lat = latitude)\n",
    "    tmin <- worldclim_tile(var = \"tmin\", res = 10, path = tempdir(), lon = longitude, lat = latitude)\n",
    "    tmax <- worldclim_tile(var = \"tmax\", res = 10, path = tempdir(), lon = longitude, lat = latitude)\n",
    "    elev <- elevation_3s(longitude, latitude, path = tempdir())\n",
    "    # Extract climate data from Worldclim\n",
    "    pre.spot <- as.data.frame(terra::extract(pre, spot)) # Precipitation\n",
    "    tmin.spot <- as.data.frame(terra::extract(tmin, spot)) # Min monthly temperature\n",
    "    tmax.spot <- as.data.frame(terra::extract(tmax, spot)) # Max monthly temperature\n",
    "    elev.spot <- as.data.frame(terra::extract(elev, spot))\n",
    "    # Change column names\n",
    "    names(pre.spot) <- month.abb\n",
    "    names(tmin.spot) <- month.abb\n",
    "    names(tmax.spot) <- month.abb\n",
    "    # Create matrix of climate data needed for Walter and Lieth diagram\n",
    "    spot.matrix <- as.matrix(rbind(pre.spot, tmax.spot, tmin.spot))\n",
    "    rownames(spot.matrix) <- c(\"Precip\", \"MaxT\", \"MinT\")\n",
    "    # Plot Walter and Lieth climate diagrams\n",
    "    diagwl(spot.matrix, cols = NULL, format = '%d', stname= paste('Elev:'), alt=elev.spot[1,], per='1970-2000', mlab = month.abb)\n",
    "    }"
   ]
  },
  {
   "cell_type": "markdown",
   "id": "f955db5d-6ecd-407c-b1c6-284df281188a",
   "metadata": {},
   "source": [
    "# Part 1: Interpreting Walter-Lieth diagrams\n",
    "Run the cell below to plot a Walter-Lieth diagram for a secret location. To run the code click into the next cell and then press **shift + enter**"
   ]
  },
  {
   "cell_type": "code",
   "execution_count": null,
   "id": "b4f21b60-feb3-412c-bf44-47c424f2afd0",
   "metadata": {
    "tags": []
   },
   "outputs": [],
   "source": [
    "wld(0.1^b, 0.1^a*-1)"
   ]
  },
  {
   "cell_type": "markdown",
   "id": "3448c84f-9ed3-4899-bfb2-b5bb631bfd91",
   "metadata": {},
   "source": [
    "Question 1a: Describe the climate of this region. What is the predominant form of seasonality? What place do you think these data represent (give your best guess).\n",
    "\n",
    "**Double click to insert your answer here**\n"
   ]
  },
  {
   "cell_type": "markdown",
   "id": "786b498a-bef5-483f-b444-3000918cdba1",
   "metadata": {
    "tags": []
   },
   "source": [
    "Question 1b: Is this region tropical? According to which definitions? Explain your answer, referring to the Walter-Lieth diagram.\n",
    "\n",
    "**Double click to insert your answer here**\n"
   ]
  },
  {
   "cell_type": "markdown",
   "id": "468ef976-4706-4926-ab41-428c95933add",
   "metadata": {},
   "source": [
    "Now run the cell below to check where it is and in which Ecoregion"
   ]
  },
  {
   "cell_type": "code",
   "execution_count": null,
   "id": "314996b4-5a0e-47e6-9825-0c03e7838e2d",
   "metadata": {
    "tags": []
   },
   "outputs": [],
   "source": [
    "countries <- world(path = tempdir())\n",
    "if (!file.exists(here::here(\"6kcchn7e3u_official_teow.zip\"))) {\n",
    "    download.file('https://files.worldwildlife.org/wwfcmsprod/files/Publication/file/6kcchn7e3u_official_teow.zip', \"6kcchn7e3u_official_teow.zip\")\n",
    "    unzip(\"6kcchn7e3u_official_teow.zip\")\n",
    "}\n",
    "ecoregions <- vect(here::here(\"official\",\"wwf_terr_ecos.shp\"), crs = \"+proj=longlat +datum=WGS84\")\n",
    "biome <- data.frame(BIOME = c(1:14),\n",
    "                    BIOME_NAME = c(\"Tropical & Subtropical Moist Broadleaf Forests\", \"Tropical & Subtropical Dry Broadleaf Forests\",\n",
    "                                   \"Tropical & Subtropical Coniferous Forests\", \"Temperate Broadleaf & Mixed Forests\", \n",
    "                                   \"Temperate Conifer Forests\", \"Boreal Forests/Taiga\", \"Tropical & Subtropical Grasslands, Savannas & Shrublands\", \n",
    "                                   \"Temperate Grasslands, Savannas & Shrublands\", \"Flooded Grasslands & Savannas\", \"Montane Grasslands & Shrublands\", \n",
    "                                   \"Tundra\", \"Mediterranean Forests, Woodlands & Scrub\", \"Deserts & Xeric Shrublands \", \"Mangroves\")\n",
    "                    )\n",
    "ecoregions <- merge(ecoregions, biome, all.x=TRUE, by.x='BIOME', by.y='BIOME')\n",
    "y <- 0.1^b\n",
    "x <- 0.1^a*-1\n",
    "country <- countries[vect(cbind(x, y), crs=\"+proj=longlat +datum=WGS84\")]\n",
    "ecoregion <- ecoregions[vect(cbind(x, y), crs=\"+proj=longlat +datum=WGS84\")]\n",
    "tag.map.title <- tags$style(HTML(\".leaflet-control.map-title { transform: translate(-50%,20%);position: fixed !important;\n",
    "                                left: 30%; text-align: left; padding-left: 10px; padding-right: 10px; background: rgba(255,255,255,0.75);\n",
    "                                font-weight: bold; font-size: 14px;\n",
    "                                }\"\n",
    "                                )\n",
    "                            )\n",
    "title <- tags$div(\n",
    "  tag.map.title, HTML(\"Country: \", country$NAME_0,'<br>', \"Ecoregion: \", ecoregion$ECO_NAME,'<br>', \"Biome: \",ecoregion$BIOME_NAME)\n",
    "                     )  \n",
    "map <- leaflet(ecoregion) %>%\n",
    "  addPolygons() %>%\n",
    "  addTiles() %>%\n",
    "  addMarkers(~x, ~y, popup = ~as.character(ecoregion$ECO_NAME), label = ~as.character(ecoregion$ECO_NAME)) %>%\n",
    "  setView(lng = as.numeric((ext(ecoregion)[1]+ext(ecoregion)[2])/2), lat = as.numeric((ext(ecoregion)[3]+ext(ecoregion)[4])/2), zoom = 6) %>% # Set initial map center and zoom level\n",
    "  addControl(title, position = \"topleft\", className=\"map-title\")\n",
    "map"
   ]
  },
  {
   "cell_type": "markdown",
   "id": "03572095-44e2-4c37-a3fc-ab2f27f8ff2f",
   "metadata": {
    "tags": []
   },
   "source": [
    "Now, run the cell below to plot another Walter-Lieth diagram for another location."
   ]
  },
  {
   "cell_type": "code",
   "execution_count": null,
   "id": "a32c1654-0c8e-4eae-a43e-bb3dacf39704",
   "metadata": {
    "tags": []
   },
   "outputs": [],
   "source": [
    "wld(0.1^d, 0.1^c)"
   ]
  },
  {
   "cell_type": "markdown",
   "id": "ffbddf05-b713-4149-a393-c4a83d090afe",
   "metadata": {},
   "source": [
    "Question 2a: Describe the climate of this region. What is the predominant form of seasonality? What place do you think these data represent (give your best guess).\n",
    "\n",
    "\n",
    "**Double click to insert your answer here**\n",
    "\n",
    "Question 2b: Is this region tropical? According to which definitions? Explain your answer, referring to the Walter-Lieth diagram.\n",
    "\n",
    "\n",
    "**Double click to insert your answer here**\n",
    "\n",
    "Let's check where it is running the code below"
   ]
  },
  {
   "cell_type": "code",
   "execution_count": null,
   "id": "52f51b90-72f8-4548-9e5f-bd7f0a3fd60e",
   "metadata": {
    "tags": []
   },
   "outputs": [],
   "source": [
    "y <- 0.1^d\n",
    "x <- 0.1^c\n",
    "country <- countries[vect(cbind(x, y), crs=\"+proj=longlat +datum=WGS84\")]\n",
    "ecoregion <- ecoregions[vect(cbind(x, y), crs=\"+proj=longlat +datum=WGS84\")]\n",
    "tag.map.title <- tags$style(HTML(\".leaflet-control.map-title { transform: translate(-50%,20%);position: fixed !important;\n",
    "                                left: 30%; text-align: left; padding-left: 10px; padding-right: 10px; background: rgba(255,255,255,0.75);\n",
    "                                font-weight: bold; font-size: 14px;\n",
    "                                }\"\n",
    "                                )\n",
    "                            )\n",
    "title <- tags$div(\n",
    "  tag.map.title, HTML(\"Country: \", country$NAME_0,'<br>', \"Ecoregion: \", ecoregion$ECO_NAME,'<br>', \"Biome: \",ecoregion$BIOME_NAME)\n",
    "                     )  \n",
    "map <- leaflet(ecoregion) %>%\n",
    "  addPolygons() %>%\n",
    "  addTiles() %>%\n",
    "  addMarkers(~x, ~y, popup = ~as.character(ecoregion$ECO_NAME), label = ~as.character(ecoregion$ECO_NAME)) %>%\n",
    "  setView(lng = as.numeric((ext(ecoregion)[1]+ext(ecoregion)[2])/2), lat = as.numeric((ext(ecoregion)[3]+ext(ecoregion)[4])/2), zoom = 6) %>% # Set initial map center and zoom level\n",
    "  addControl(title, position = \"topleft\", className=\"map-title\")\n",
    "map"
   ]
  },
  {
   "cell_type": "markdown",
   "id": "b95258a7-a2fe-43bc-a60f-911bb19f7194",
   "metadata": {},
   "source": [
    "# Part 2: Tropical climates and vegetation\n",
    "Run the code below to plot a Walter-Lieth diagram for 147.52°E, 8.63°S."
   ]
  },
  {
   "cell_type": "code",
   "execution_count": null,
   "id": "8774fec8-c47c-4603-8cc8-bc2ea63ac42c",
   "metadata": {
    "tags": []
   },
   "outputs": [],
   "source": [
    "wld(-8.63, 147.52)"
   ]
  },
  {
   "cell_type": "markdown",
   "id": "ff2355cb-9db4-42a4-a963-12f367d651ba",
   "metadata": {},
   "source": [
    "Question 3: Based on the diagram (and without Googling the place), if you went to this place, what kind of vegetation would you expect to find? What other information about the environment would help improve your prediction. Explain your answer.\n",
    "\n",
    "**Double click to insert your answer here**\n",
    "\n",
    "Take a look  where it is running the code below"
   ]
  },
  {
   "cell_type": "code",
   "execution_count": null,
   "id": "2734d6ae-e49a-4d0f-8c7c-6bca7759bd3f",
   "metadata": {
    "tags": []
   },
   "outputs": [],
   "source": [
    "y <- -8.63\n",
    "x <- 147.52\n",
    "country <- countries[vect(cbind(x, y), crs=\"+proj=longlat +datum=WGS84\")]\n",
    "ecoregion <- ecoregions[vect(cbind(x, y), crs=\"+proj=longlat +datum=WGS84\")]\n",
    "tag.map.title <- tags$style(HTML(\".leaflet-control.map-title { transform: translate(-50%,20%);position: fixed !important;\n",
    "                                left: 30%; text-align: left; padding-left: 10px; padding-right: 10px; background: rgba(255,255,255,0.75);\n",
    "                                font-weight: bold; font-size: 14px;\n",
    "                                }\"\n",
    "                                )\n",
    "                            )\n",
    "title <- tags$div(\n",
    "  tag.map.title, HTML(\"Country: \", country$NAME_0,'<br>', \"Ecoregion: \", ecoregion$ECO_NAME,'<br>', \"Biome: \",ecoregion$BIOME_NAME)\n",
    "                     )  \n",
    "map <- leaflet(ecoregion) %>%\n",
    "  addPolygons() %>%\n",
    "  addTiles() %>%\n",
    "  addMarkers(~x, ~y, popup = ~as.character(ecoregion$ECO_NAME), label = ~as.character(ecoregion$ECO_NAME)) %>%\n",
    "  setView(lng = as.numeric((ext(ecoregion)[1]+ext(ecoregion)[2])/2), lat = as.numeric((ext(ecoregion)[3]+ext(ecoregion)[4])/2), zoom = 6) %>% # Set initial map center and zoom level\n",
    "  addControl(title, position = \"topleft\", className=\"map-title\")\n",
    "map"
   ]
  },
  {
   "cell_type": "markdown",
   "id": "150d8c17-a840-4bc1-8714-07ca32eee82c",
   "metadata": {},
   "source": [
    "Run the cell below to plot a Walter-Lieth diagram for 29.15°E , 17.48°S."
   ]
  },
  {
   "cell_type": "code",
   "execution_count": null,
   "id": "770354ad-542a-47e8-a9f8-52faeeb569c7",
   "metadata": {
    "tags": []
   },
   "outputs": [],
   "source": [
    "wld(-17.48, 29.15)"
   ]
  },
  {
   "cell_type": "markdown",
   "id": "794aa69b-9639-43d7-812b-ac44bace4b90",
   "metadata": {},
   "source": [
    "Question 4: Based on the diagram (and without Googling the place), if you went to this place, what kind of vegetation would you expect to find? What other information about the environment would help improve your prediction. Explain your answer.\n",
    "\n",
    "**Double click to insert your answer here**\n",
    "\n",
    "After answering, take a look running the code below"
   ]
  },
  {
   "cell_type": "code",
   "execution_count": null,
   "id": "90bbe6cd-3960-406c-8cfe-131c79cb10cf",
   "metadata": {
    "tags": []
   },
   "outputs": [],
   "source": [
    "y <- -17.48\n",
    "x <-  29.15\n",
    "country <- countries[vect(cbind(x, y), crs=\"+proj=longlat +datum=WGS84\")]\n",
    "ecoregion <- ecoregions[vect(cbind(x, y), crs=\"+proj=longlat +datum=WGS84\")]\n",
    "tag.map.title <- tags$style(HTML(\".leaflet-control.map-title { transform: translate(-50%,20%);position: fixed !important;\n",
    "                                left: 30%; text-align: left; padding-left: 10px; padding-right: 10px; background: rgba(255,255,255,0.75);\n",
    "                                font-weight: bold; font-size: 14px;\n",
    "                                }\"\n",
    "                                )\n",
    "                            )\n",
    "title <- tags$div(\n",
    "  tag.map.title, HTML(\"Country: \", country$NAME_0,'<br>', \"Ecoregion: \", ecoregion$ECO_NAME,'<br>', \"Biome: \",ecoregion$BIOME_NAME)\n",
    "                     )  \n",
    "map <- leaflet(ecoregion) %>%\n",
    "  addPolygons() %>%\n",
    "  addTiles() %>%\n",
    "  addMarkers(~x, ~y, popup = ~as.character(ecoregion$ECO_NAME), label = ~as.character(ecoregion$ECO_NAME)) %>%\n",
    "  setView(lng = as.numeric((ext(ecoregion)[1]+ext(ecoregion)[2])/2), lat = as.numeric((ext(ecoregion)[3]+ext(ecoregion)[4])/2+5), zoom = 6) %>% # Set initial map center and zoom level\n",
    "  addControl(title, position = \"topleft\", className=\"map-title\")\n",
    "map"
   ]
  },
  {
   "cell_type": "markdown",
   "id": "ab3a942b-dd56-45e0-90a6-80692a331986",
   "metadata": {},
   "source": [
    "# Part 3: Climate and vegetation in the location of your wiki project.\n",
    "Now, you can use the code we created to generate Walter-Lieth diagrams and ecoregion maps to use in your wiki project. You should include these diagram in the section on climate and biomes. Please create at least two diagrams and maps for your project. \n",
    "\n",
    "To create your diagram, go to [Google Maps](http://maps.google.com), right-click on your chosen place to copy coordinates (Latitude, Longitude) and paste it into the brackets in the cell below and than run the cell."
   ]
  },
  {
   "cell_type": "code",
   "execution_count": null,
   "id": "9842fb55-b94d-4584-94d9-5dba096382ea",
   "metadata": {
    "tags": []
   },
   "outputs": [],
   "source": [
    "latlon <- c() # paste your coordenates into the brackets and shift + enter\n",
    "wld(latlon[1], latlon[2])  "
   ]
  },
  {
   "cell_type": "markdown",
   "id": "f8bdc533-1d89-47ce-adea-35f609af5c42",
   "metadata": {},
   "source": [
    "To export your diagram for use in your wiki, you may take a screenshot or right-click to save as a .svg file.\n",
    "To insert the image onto your wiki page, please follow these [instructions](https://wiki.ubc.ca/Help:Tutorial#Images). Make sure to include a caption, with a description of the figure and a reference for the data source!\n",
    "\n",
    "You can also generate a map with the Ecoregion boundary to your chosen place running the code below."
   ]
  },
  {
   "cell_type": "code",
   "execution_count": null,
   "id": "376026bd-685e-4374-8388-889b907ec764",
   "metadata": {
    "tags": []
   },
   "outputs": [],
   "source": [
    "y <- latlon[1]\n",
    "x <- latlon[2]\n",
    "country <- countries[vect(cbind(x, y), crs=\"+proj=longlat +datum=WGS84\")]\n",
    "ecoregion <- ecoregions[vect(cbind(x, y), crs=\"+proj=longlat +datum=WGS84\")]\n",
    "tag.map.title <- tags$style(HTML(\".leaflet-control.map-title { transform: translate(-50%,20%);position: fixed !important;\n",
    "                                left: 30%; text-align: left; padding-left: 10px; padding-right: 10px; background: rgba(255,255,255,0.75);\n",
    "                                font-weight: bold; font-size: 14px;\n",
    "                                }\"\n",
    "                                )\n",
    "                            )\n",
    "title <- tags$div(\n",
    "  tag.map.title, HTML(\"Country: \", country$NAME_0,'<br>', \"Ecoregion: \", ecoregion$ECO_NAME,'<br>', \"Biome: \",ecoregion$BIOME_NAME)\n",
    "                     )  \n",
    "map <- leaflet(ecoregion) %>%\n",
    "  addPolygons() %>%\n",
    "  addTiles() %>%\n",
    "  addMarkers(~x, ~y, popup = ~as.character(ecoregion$ECO_NAME), label = ~as.character(ecoregion$ECO_NAME)) %>%\n",
    "  setView(lng = as.numeric((ext(ecoregion)[1]+ext(ecoregion)[2])/2), lat = as.numeric((ext(ecoregion)[3]+ext(ecoregion)[4])/2), zoom = 6) %>% # Set initial map center and zoom level\n",
    "  addControl(title, position = \"topleft\", className=\"map-title\")\n",
    "map"
   ]
  },
  {
   "cell_type": "markdown",
   "id": "483ef31a-1d69-4823-a626-29fcbc65d4d0",
   "metadata": {},
   "source": [
    "Once you're done, save your work by exporting to an HTML. To do this, click File -> Save and export notebook as -> HTML. "
   ]
  }
 ],
 "metadata": {
  "kernelspec": {
   "display_name": "R",
   "language": "R",
   "name": "ir"
  },
  "language_info": {
   "codemirror_mode": "r",
   "file_extension": ".r",
   "mimetype": "text/x-r-source",
   "name": "R",
   "pygments_lexer": "r",
   "version": "4.1.3"
  }
 },
 "nbformat": 4,
 "nbformat_minor": 5
}
